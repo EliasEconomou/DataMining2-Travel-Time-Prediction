{
  "nbformat": 4,
  "nbformat_minor": 0,
  "metadata": {
    "colab": {
      "name": "DataMining2_Travel_Time_Prediction.ipynb",
      "provenance": [],
      "collapsed_sections": [],
      "include_colab_link": true
    },
    "kernelspec": {
      "name": "python3",
      "display_name": "Python 3"
    },
    "language_info": {
      "name": "python"
    }
  },
  "cells": [
    {
      "cell_type": "markdown",
      "metadata": {
        "id": "view-in-github",
        "colab_type": "text"
      },
      "source": [
        "<a href=\"https://colab.research.google.com/github/EliasEconomou/DataMining2-Travel-Time-Prediction/blob/main/DataMining2_Travel_Time_Prediction.ipynb\" target=\"_parent\"><img src=\"https://colab.research.google.com/assets/colab-badge.svg\" alt=\"Open In Colab\"/></a>"
      ]
    },
    {
      "cell_type": "markdown",
      "source": [
        "# **Importing Libraries and Reading Files**"
      ],
      "metadata": {
        "id": "fHQw97dnbZzH"
      }
    },
    {
      "cell_type": "code",
      "execution_count": 1,
      "metadata": {
        "id": "OL_Oa-fnarST"
      },
      "outputs": [],
      "source": [
        "import numpy as np\n",
        "import pandas as pd\n",
        "import sys\n",
        "import os.path"
      ]
    },
    {
      "cell_type": "code",
      "source": [
        "# Options\n",
        "pd.options.mode.chained_assignment = None"
      ],
      "metadata": {
        "id": "bkuN3Rerbfbd"
      },
      "execution_count": 2,
      "outputs": []
    },
    {
      "cell_type": "code",
      "source": [
        "def read_file(filePath):\n",
        "  fileExists = os.path.exists(filePath)\n",
        "  if fileExists:\n",
        "    rFile = pd.read_csv(filePath)\n",
        "  else:\n",
        "    print('Enter data file path:')\n",
        "    filePath = input()\n",
        "    rFile = pd.read_csv(filePath)\n",
        "  return rFile\n",
        "  "
      ],
      "metadata": {
        "id": "0hDaXUHdxG_U"
      },
      "execution_count": 3,
      "outputs": []
    },
    {
      "cell_type": "code",
      "source": [
        "# Reading train/test/target data files\n",
        "trainFilePath = \"./drive/MyDrive/ColabNotebooks/travel_time_data/train.csv\"\n",
        "testFilePath = \"./drive/MyDrive/ColabNotebooks/travel_time_data/test.csv\"\n",
        "targetFilePath = \"./drive/MyDrive/ColabNotebooks/travel_time_data/target.csv\"\n"
      ],
      "metadata": {
        "id": "EPGPDIBOyNdL"
      },
      "execution_count": 4,
      "outputs": []
    },
    {
      "cell_type": "code",
      "source": [
        "train = read_file(trainFilePath)\n",
        "test = read_file(testFilePath)\n",
        "target = read_file(targetFilePath)"
      ],
      "metadata": {
        "id": "klOfeT5ry592"
      },
      "execution_count": 5,
      "outputs": []
    },
    {
      "cell_type": "code",
      "source": [
        "print(train.shape,test.shape,target.shape)"
      ],
      "metadata": {
        "colab": {
          "base_uri": "https://localhost:8080/"
        },
        "id": "Gl4Mjg6nzaQ3",
        "outputId": "b5229025-8348-4098-e245-4a254e293ca3"
      },
      "execution_count": 7,
      "outputs": [
        {
          "output_type": "stream",
          "name": "stdout",
          "text": [
            "(1166915, 11) (291729, 9) (291729, 2)\n"
          ]
        }
      ]
    },
    {
      "cell_type": "code",
      "source": [
        ""
      ],
      "metadata": {
        "id": "yVZfE33M0AiW"
      },
      "execution_count": null,
      "outputs": []
    },
    {
      "cell_type": "markdown",
      "source": [
        "# **Analyzing Data**"
      ],
      "metadata": {
        "id": "OrOCPPxU5P6D"
      }
    },
    {
      "cell_type": "code",
      "source": [
        ""
      ],
      "metadata": {
        "id": "ne_u4qhm5yYA"
      },
      "execution_count": null,
      "outputs": []
    }
  ]
}