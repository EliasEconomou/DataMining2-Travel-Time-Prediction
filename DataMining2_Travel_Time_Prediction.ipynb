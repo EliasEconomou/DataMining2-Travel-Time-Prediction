{
  "nbformat": 4,
  "nbformat_minor": 0,
  "metadata": {
    "colab": {
      "name": "DataMining2 - Travel Time Prediction.ipynb",
      "provenance": [],
      "collapsed_sections": [],
      "mount_file_id": "1-sJA1_O5BKGlu1sUIpZ5Anzti-9uhnqw",
      "authorship_tag": "ABX9TyOUXdN1GXJdntNPTZMRSI6Z",
      "include_colab_link": true
    },
    "kernelspec": {
      "name": "python3",
      "display_name": "Python 3"
    },
    "language_info": {
      "name": "python"
    }
  },
  "cells": [
    {
      "cell_type": "markdown",
      "metadata": {
        "id": "view-in-github",
        "colab_type": "text"
      },
      "source": [
        "<a href=\"https://colab.research.google.com/github/EliasEconomou/DataMining2-Travel-Time-Prediction/blob/main/DataMining2_Travel_Time_Prediction.ipynb\" target=\"_parent\"><img src=\"https://colab.research.google.com/assets/colab-badge.svg\" alt=\"Open In Colab\"/></a>"
      ]
    },
    {
      "cell_type": "markdown",
      "source": [
        "# **Importing Libraries and Reading Files**"
      ],
      "metadata": {
        "id": "fHQw97dnbZzH"
      }
    },
    {
      "cell_type": "code",
      "execution_count": 3,
      "metadata": {
        "id": "OL_Oa-fnarST"
      },
      "outputs": [],
      "source": [
        "import numpy as np\n",
        "import pandas as pd\n",
        "import sys\n",
        "import os.path"
      ]
    },
    {
      "cell_type": "code",
      "source": [
        "# Options\n",
        "pd.options.mode.chained_assignment = None"
      ],
      "metadata": {
        "id": "bkuN3Rerbfbd"
      },
      "execution_count": 2,
      "outputs": []
    },
    {
      "cell_type": "code",
      "source": [
        ""
      ],
      "metadata": {
        "id": "Oi8237D0blTg"
      },
      "execution_count": null,
      "outputs": []
    }
  ]
}